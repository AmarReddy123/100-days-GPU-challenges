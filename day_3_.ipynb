{
  "nbformat": 4,
  "nbformat_minor": 0,
  "metadata": {
    "colab": {
      "provenance": []
    },
    "kernelspec": {
      "name": "python3",
      "display_name": "Python 3"
    },
    "language_info": {
      "name": "python"
    }
  },
  "cells": [
    {
      "cell_type": "code",
      "source": [
        "%%writefile vector_add.cu\n",
        "\n",
        "#include <iostream>\n",
        "#include <stdio.h> // Include for printf\n",
        "\n",
        "__global__ void vectorMatrixMult(const float* A, const float* B, float* C, int N) {\n",
        "    int i = blockIdx.x * blockDim.x + threadIdx.x;\n",
        "    if (i < N) {\n",
        "      float sum=0.0f;\n",
        "      for (int j = 0; j < N; j++) {\n",
        "         sum += A[i*N+j]*B[j];\n",
        "         // Add printf statements here to observe variable changes\n",
        "         printf(\"Thread %d, i=%d, j=%d, A[i*N+j]=%.2f, B[j]=%.2f, sum=%.2f\\n\", threadIdx.x, i, j, A[i*N+j], B[j], sum);\n",
        "      }\n",
        "      C[i]=sum;\n",
        "      printf(\"Thread %d, i=%d, final sum=%.2f\\n\", threadIdx.x, i, sum);\n",
        "}}\n",
        "\n",
        "int main() {\n",
        "    //initialize the matrix\n",
        "    const int N = 10;\n",
        "    float *A, *B, *C;\n",
        "\n",
        "    // initialize the input matrices\n",
        "    A = (float *)malloc( N*N* sizeof(float));\n",
        "    B = (float *)malloc(N*sizeof(float));\n",
        "    C = (float *)malloc(N*sizeof(float));\n",
        "\n",
        "\n",
        "    for (int i = 0; i < N; i++)\n",
        "    {\n",
        "        for (int j = 0; j < N; j++)\n",
        "        {\n",
        "            A[i * N + j] = 1.0f;\n",
        "        }\n",
        "        B[i] = 2.0f;\n",
        "        C[i] = 0.0f;\n",
        "    }\n",
        "\n",
        "    float *d_a, *d_b,*d_c;\n",
        "    cudaMalloc(&d_a,N*N*sizeof(float));\n",
        "    cudaMalloc(&d_b,N*sizeof(float));\n",
        "    cudaMalloc(&d_c,N*sizeof(float));\n",
        "    cudaMemcpy(d_a,A,N*N*sizeof(float),cudaMemcpyHostToDevice);\n",
        "    cudaMemcpy(d_b,B,N*sizeof(float),cudaMemcpyHostToDevice);\n",
        "    int blocksize=256;\n",
        "    int gridsize = (N + blocksize - 1) / blocksize;\n",
        "    vectorMatrixMult<<<gridsize,blocksize>>>(d_a,d_b,d_c,N);\n",
        "\n",
        "  cudaDeviceSynchronize();\n",
        "cudaMemcpy(C,d_c,N*sizeof(float),cudaMemcpyDeviceToHost);\n",
        "\n",
        "     printf(\"A:\\n\");\n",
        "    for (int i = 0; i < N; i++) {\n",
        "        for (int j = 0; j < N; j++) {\n",
        "\n",
        "            printf(\"%.2f \", A[i * N + j]); // Prints each element with 2 decimal precision\n",
        "        }\n",
        "        printf(\"\\n\"); // Adds a newline after each row\n",
        "    }\n",
        "\n",
        "    printf(\"C:\\n\");\n",
        "    for (int i = 0; i < N; i++) {\n",
        "\n",
        "\n",
        "            printf(\"%.2f \",C[i]); // Prints each element with 2 decimal precision\n",
        "\n",
        "    }\n",
        "printf(\"\\n\");\n",
        "     printf(\"B:\\n\");\n",
        "    for (int i = 0; i < N; i++) {\n",
        "\n",
        "\n",
        "            printf(\"%.2f \", B[i ]); // Prints each element with 2 decimal precision\n",
        "\n",
        "    }\n",
        "\n",
        "\n",
        "\n",
        "    cudaFree(d_a);\n",
        "    cudaFree(d_b);\n",
        "    cudaFree(d_c);\n",
        "\n",
        "}"
      ],
      "metadata": {
        "colab": {
          "base_uri": "https://localhost:8080/"
        },
        "id": "OEuBnxBk5JPn",
        "outputId": "7403ca31-74f5-45df-e9ed-889ad2750e6f"
      },
      "execution_count": 3,
      "outputs": [
        {
          "output_type": "stream",
          "name": "stdout",
          "text": [
            "Overwriting vector_add.cu\n"
          ]
        }
      ]
    },
    {
      "cell_type": "code",
      "source": [
        "# Compile with the specified architecture\n",
        "!nvcc vector_add.cu -o vector_add -gencode arch=compute_75,code=sm_75\n",
        "\n",
        "# Run the executable\n",
        "!./vector_add"
      ],
      "metadata": {
        "colab": {
          "base_uri": "https://localhost:8080/"
        },
        "id": "pB7p8ShY5NE8",
        "outputId": "bcb5de2f-2289-44c4-88dd-a9a701e69914"
      },
      "execution_count": 4,
      "outputs": [
        {
          "output_type": "stream",
          "name": "stdout",
          "text": [
            "A:\n",
            "1.00 1.00 1.00 1.00 1.00 1.00 1.00 1.00 1.00 1.00 \n",
            "1.00 1.00 1.00 1.00 1.00 1.00 1.00 1.00 1.00 1.00 \n",
            "1.00 1.00 1.00 1.00 1.00 1.00 1.00 1.00 1.00 1.00 \n",
            "1.00 1.00 1.00 1.00 1.00 1.00 1.00 1.00 1.00 1.00 \n",
            "1.00 1.00 1.00 1.00 1.00 1.00 1.00 1.00 1.00 1.00 \n",
            "1.00 1.00 1.00 1.00 1.00 1.00 1.00 1.00 1.00 1.00 \n",
            "1.00 1.00 1.00 1.00 1.00 1.00 1.00 1.00 1.00 1.00 \n",
            "1.00 1.00 1.00 1.00 1.00 1.00 1.00 1.00 1.00 1.00 \n",
            "1.00 1.00 1.00 1.00 1.00 1.00 1.00 1.00 1.00 1.00 \n",
            "1.00 1.00 1.00 1.00 1.00 1.00 1.00 1.00 1.00 1.00 \n",
            "C:\n",
            "0.00 0.00 0.00 0.00 0.00 0.00 0.00 0.00 0.00 0.00 \n",
            "B:\n",
            "2.00 2.00 2.00 2.00 2.00 2.00 2.00 2.00 2.00 2.00 "
          ]
        }
      ]
    }
  ]
}